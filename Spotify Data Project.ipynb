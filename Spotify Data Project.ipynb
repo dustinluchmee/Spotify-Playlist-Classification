{
 "cells": [
  {
   "cell_type": "code",
   "execution_count": 1,
   "metadata": {},
   "outputs": [],
   "source": [
    "# Common imports\n",
    "import numpy as np\n",
    "import pandas as pd\n",
    "import seaborn as sns\n",
    "import missingno as msno\n",
    "from math import pi\n",
    "import operator\n",
    "\n",
    "#Sklearn programs\n",
    "from sklearn import neighbors\n",
    "from sklearn import metrics\n",
    "from sklearn.metrics import mean_absolute_error\n",
    "from sklearn.metrics import accuracy_score, precision_score, recall_score, f1_score, confusion_matrix, classification_report\n",
    "\n",
    "\n",
    "# To plot pretty figures\n",
    "%matplotlib inline\n",
    "import matplotlib.pyplot as plt\n",
    "import matplotlib.image as mpimg\n",
    "\n",
    "\n",
    "# to make this notebook's output identical at every run\n",
    "np.random.seed(42)\n",
    "\n",
    "# Ignore useless warnings\n",
    "import warnings\n",
    "warnings.filterwarnings(action=\"ignore\", message=\"^internal gelsd\")\n",
    "\n",
    "#See max rows\n",
    "pd.set_option('display.max_rows', None)"
   ]
  },
  {
   "cell_type": "code",
   "execution_count": 2,
   "metadata": {},
   "outputs": [
    {
     "data": {
      "text/html": [
       "<div>\n",
       "<style scoped>\n",
       "    .dataframe tbody tr th:only-of-type {\n",
       "        vertical-align: middle;\n",
       "    }\n",
       "\n",
       "    .dataframe tbody tr th {\n",
       "        vertical-align: top;\n",
       "    }\n",
       "\n",
       "    .dataframe thead th {\n",
       "        text-align: right;\n",
       "    }\n",
       "</style>\n",
       "<table border=\"1\" class=\"dataframe\">\n",
       "  <thead>\n",
       "    <tr style=\"text-align: right;\">\n",
       "      <th></th>\n",
       "      <th>artist</th>\n",
       "      <th>album</th>\n",
       "      <th>track_name</th>\n",
       "      <th>track_id</th>\n",
       "      <th>danceability</th>\n",
       "      <th>energy</th>\n",
       "      <th>key</th>\n",
       "      <th>loudness</th>\n",
       "      <th>mode</th>\n",
       "      <th>speechiness</th>\n",
       "      <th>instrumentalness</th>\n",
       "      <th>liveness</th>\n",
       "      <th>valence</th>\n",
       "      <th>tempo</th>\n",
       "      <th>duration_ms</th>\n",
       "      <th>time_signature</th>\n",
       "      <th>popularity</th>\n",
       "      <th>playlist</th>\n",
       "    </tr>\n",
       "  </thead>\n",
       "  <tbody>\n",
       "    <tr>\n",
       "      <th>0</th>\n",
       "      <td>Kurt Vile</td>\n",
       "      <td>b'lieve i'm goin down...</td>\n",
       "      <td>Pretty Pimpin</td>\n",
       "      <td>3l9eg9RtisizG12a1D6nZl</td>\n",
       "      <td>0.566</td>\n",
       "      <td>0.664</td>\n",
       "      <td>8</td>\n",
       "      <td>-9.081</td>\n",
       "      <td>1</td>\n",
       "      <td>0.0281</td>\n",
       "      <td>0.305000</td>\n",
       "      <td>0.0903</td>\n",
       "      <td>0.764</td>\n",
       "      <td>91.117</td>\n",
       "      <td>298760</td>\n",
       "      <td>4</td>\n",
       "      <td>0.0</td>\n",
       "      <td>Top 5000 Songs</td>\n",
       "    </tr>\n",
       "    <tr>\n",
       "      <th>1</th>\n",
       "      <td>The National</td>\n",
       "      <td>Trouble Will Find Me</td>\n",
       "      <td>I Need My Girl</td>\n",
       "      <td>50M7nY1oQuNHecs0ahWAtI</td>\n",
       "      <td>0.520</td>\n",
       "      <td>0.436</td>\n",
       "      <td>0</td>\n",
       "      <td>-11.508</td>\n",
       "      <td>0</td>\n",
       "      <td>0.0355</td>\n",
       "      <td>0.065100</td>\n",
       "      <td>0.1230</td>\n",
       "      <td>0.114</td>\n",
       "      <td>126.053</td>\n",
       "      <td>245240</td>\n",
       "      <td>4</td>\n",
       "      <td>64.0</td>\n",
       "      <td>Top 5000 Songs</td>\n",
       "    </tr>\n",
       "    <tr>\n",
       "      <th>2</th>\n",
       "      <td>Galaxie 500</td>\n",
       "      <td>On Fire</td>\n",
       "      <td>Strange</td>\n",
       "      <td>2TTAPkrGQQOZkaUTUlt21Q</td>\n",
       "      <td>0.312</td>\n",
       "      <td>0.844</td>\n",
       "      <td>7</td>\n",
       "      <td>-7.085</td>\n",
       "      <td>1</td>\n",
       "      <td>0.0511</td>\n",
       "      <td>0.023100</td>\n",
       "      <td>0.0793</td>\n",
       "      <td>0.626</td>\n",
       "      <td>97.039</td>\n",
       "      <td>199467</td>\n",
       "      <td>4</td>\n",
       "      <td>48.0</td>\n",
       "      <td>Top 5000 Songs</td>\n",
       "    </tr>\n",
       "    <tr>\n",
       "      <th>3</th>\n",
       "      <td>Windir</td>\n",
       "      <td>1184</td>\n",
       "      <td>Todeswalzer</td>\n",
       "      <td>7BvcpEdO7PUDGGSER1S9LA</td>\n",
       "      <td>0.236</td>\n",
       "      <td>0.870</td>\n",
       "      <td>2</td>\n",
       "      <td>-4.747</td>\n",
       "      <td>0</td>\n",
       "      <td>0.0579</td>\n",
       "      <td>0.930000</td>\n",
       "      <td>0.3050</td>\n",
       "      <td>0.186</td>\n",
       "      <td>167.845</td>\n",
       "      <td>295131</td>\n",
       "      <td>4</td>\n",
       "      <td>33.0</td>\n",
       "      <td>Top 5000 Songs</td>\n",
       "    </tr>\n",
       "    <tr>\n",
       "      <th>4</th>\n",
       "      <td>The Weeknd</td>\n",
       "      <td>After Hours</td>\n",
       "      <td>Blinding Lights</td>\n",
       "      <td>0VjIjW4GlUZAMYd2vXMi3b</td>\n",
       "      <td>0.514</td>\n",
       "      <td>0.730</td>\n",
       "      <td>1</td>\n",
       "      <td>-5.934</td>\n",
       "      <td>1</td>\n",
       "      <td>0.0598</td>\n",
       "      <td>0.000095</td>\n",
       "      <td>0.0897</td>\n",
       "      <td>0.334</td>\n",
       "      <td>171.005</td>\n",
       "      <td>200040</td>\n",
       "      <td>4</td>\n",
       "      <td>90.0</td>\n",
       "      <td>Top 5000 Songs</td>\n",
       "    </tr>\n",
       "  </tbody>\n",
       "</table>\n",
       "</div>"
      ],
      "text/plain": [
       "         artist                     album       track_name  \\\n",
       "0     Kurt Vile  b'lieve i'm goin down...    Pretty Pimpin   \n",
       "1  The National      Trouble Will Find Me   I Need My Girl   \n",
       "2   Galaxie 500                   On Fire          Strange   \n",
       "3        Windir                      1184      Todeswalzer   \n",
       "4    The Weeknd               After Hours  Blinding Lights   \n",
       "\n",
       "                 track_id  danceability  energy  key  loudness  mode  \\\n",
       "0  3l9eg9RtisizG12a1D6nZl         0.566   0.664    8    -9.081     1   \n",
       "1  50M7nY1oQuNHecs0ahWAtI         0.520   0.436    0   -11.508     0   \n",
       "2  2TTAPkrGQQOZkaUTUlt21Q         0.312   0.844    7    -7.085     1   \n",
       "3  7BvcpEdO7PUDGGSER1S9LA         0.236   0.870    2    -4.747     0   \n",
       "4  0VjIjW4GlUZAMYd2vXMi3b         0.514   0.730    1    -5.934     1   \n",
       "\n",
       "   speechiness  instrumentalness  liveness  valence    tempo  duration_ms  \\\n",
       "0       0.0281          0.305000    0.0903    0.764   91.117       298760   \n",
       "1       0.0355          0.065100    0.1230    0.114  126.053       245240   \n",
       "2       0.0511          0.023100    0.0793    0.626   97.039       199467   \n",
       "3       0.0579          0.930000    0.3050    0.186  167.845       295131   \n",
       "4       0.0598          0.000095    0.0897    0.334  171.005       200040   \n",
       "\n",
       "   time_signature  popularity        playlist  \n",
       "0               4         0.0  Top 5000 Songs  \n",
       "1               4        64.0  Top 5000 Songs  \n",
       "2               4        48.0  Top 5000 Songs  \n",
       "3               4        33.0  Top 5000 Songs  \n",
       "4               4        90.0  Top 5000 Songs  "
      ]
     },
     "execution_count": 2,
     "metadata": {},
     "output_type": "execute_result"
    }
   ],
   "source": [
    "#Get the data\n",
    "df = pd.read_csv(\"/Users/dustin.ellis/Desktop/Desktop/Data Projects/Spotify/spotifydata.csv\")\n",
    "df.head()"
   ]
  },
  {
   "cell_type": "code",
   "execution_count": 3,
   "metadata": {},
   "outputs": [],
   "source": [
    "#We already have the track name, so the track ID is useless\n",
    "df = df.drop('track_id', axis=1)"
   ]
  },
  {
   "cell_type": "markdown",
   "metadata": {},
   "source": [
    "## Data definitions"
   ]
  },
  {
   "cell_type": "markdown",
   "metadata": {},
   "source": [
    "Artist — singer or band\n",
    "\n",
    "Album - name of the album\n",
    "\n",
    "Track Name - Name of track \n",
    "\n",
    "Danceability — the higher the value, the easier it is to dance to this song\n",
    "\n",
    "Energy — energy: the higher the value the more energetic\n",
    "\n",
    "Key - The key the track is in. Integers map to pitches using standard Pitch Class notation. E.g. 0 = C, 1 = C♯/D♭, 2 = D, and so on. If no key was detected, the value is -1.\n",
    "\n",
    "Loudness — the higher the value, the louder the song (in dB)\n",
    "\n",
    "Mode - Mode indicates the modality (major or minor) of a track, the type of scale from which its melodic content is derived. Major is represented by 1 and minor is 0.\n",
    "\n",
    "Speechiness -  the higher the value the more spoken word the song contains\n",
    "\n",
    "Instrumentalness - Predicts whether a track contains no vocals. \"Ooh\" and \"aah\" sounds are treated as instrumental in this context. Rap or spoken word tracks are clearly \"vocal\". The closer the instrumentalness value is to 1.0, the greater likelihood the track contains no vocal content. Values above 0.5 are intended to represent instrumental tracks, but confidence is higher as the value approaches 1.0.\n",
    "\n",
    "Liveness — the higher the value, the more likely the song is a live recording\n",
    "\n",
    "Valence —  the higher the value, the more positive mood for the song\n",
    "\n",
    "Tempo — beats per minute \n",
    "\n",
    "Duration —  the length of the song in milliseconds\n",
    "\n",
    "Time signature - An estimated time signature. The time signature (meter) is a notational convention to specify how many beats are in each bar (or measure). The time signature ranges from 3 to 7 indicating time signatures of \"3/4\", to \"7/4\".\n",
    "\n",
    "Playlist - Name of playlist song is featured on\n",
    "\n"
   ]
  },
  {
   "cell_type": "markdown",
   "metadata": {},
   "source": [
    "### Exploratory Data Analysis"
   ]
  },
  {
   "cell_type": "code",
   "execution_count": 4,
   "metadata": {},
   "outputs": [
    {
     "data": {
      "image/png": "[encoded data removed]",
      "text/plain": [
       "<Figure size 1440x1080 with 16 Axes>"
      ]
     },
     "metadata": {
      "needs_background": "light"
     },
     "output_type": "display_data"
    }
   ],
   "source": [
    "# plot a histogram for each numerical attribute to get a feel of data\n",
    "import matplotlib.pyplot as plt\n",
    "df.hist(bins=50, figsize=(20,15))\n",
    "plt.show()"
   ]
  },
  {
   "cell_type": "markdown",
   "metadata": {},
   "source": [
    "### Data cleaning"
   ]
  },
  {
   "cell_type": "code",
   "execution_count": 5,
   "metadata": {},
   "outputs": [
    {
     "data": {
      "text/plain": [
       "96"
      ]
     },
     "execution_count": 5,
     "metadata": {},
     "output_type": "execute_result"
    }
   ],
   "source": [
    "#check for duplicate tracks\n",
    "df.track_name.duplicated().sum()"
   ]
  },
  {
   "cell_type": "code",
   "execution_count": 6,
   "metadata": {},
   "outputs": [],
   "source": [
    "# Considering certain columns for dropping duplicates\n",
    "df.drop_duplicates(subset=['track_name'], inplace = True)"
   ]
  },
  {
   "cell_type": "code",
   "execution_count": 7,
   "metadata": {},
   "outputs": [
    {
     "name": "stdout",
     "output_type": "stream",
     "text": [
      "<class 'pandas.core.frame.DataFrame'>\n",
      "Int64Index: 1912 entries, 0 to 2007\n",
      "Data columns (total 17 columns):\n",
      " #   Column            Non-Null Count  Dtype  \n",
      "---  ------            --------------  -----  \n",
      " 0   artist            1912 non-null   object \n",
      " 1   album             1912 non-null   object \n",
      " 2   track_name        1912 non-null   object \n",
      " 3   danceability      1912 non-null   float64\n",
      " 4   energy            1912 non-null   float64\n",
      " 5   key               1912 non-null   int64  \n",
      " 6   loudness          1912 non-null   float64\n",
      " 7   mode              1912 non-null   int64  \n",
      " 8   speechiness       1912 non-null   float64\n",
      " 9   instrumentalness  1912 non-null   float64\n",
      " 10  liveness          1912 non-null   float64\n",
      " 11  valence           1912 non-null   float64\n",
      " 12  tempo             1912 non-null   float64\n",
      " 13  duration_ms       1912 non-null   int64  \n",
      " 14  time_signature    1912 non-null   int64  \n",
      " 15  popularity        1912 non-null   float64\n",
      " 16  playlist          1912 non-null   object \n",
      "dtypes: float64(9), int64(4), object(4)\n",
      "memory usage: 268.9+ KB\n"
     ]
    }
   ],
   "source": [
    "#recheck column values to see how much data was lost\n",
    "df.info()"
   ]
  },
  {
   "cell_type": "code",
   "execution_count": 8,
   "metadata": {},
   "outputs": [
    {
     "data": {
      "text/plain": [
       "0"
      ]
     },
     "execution_count": 8,
     "metadata": {},
     "output_type": "execute_result"
    }
   ],
   "source": [
    "#Check for duplicate tracks\n",
    "df.track_name.duplicated().sum()"
   ]
  },
  {
   "cell_type": "markdown",
   "metadata": {},
   "source": [
    "## Splitting data into testing and training"
   ]
  },
  {
   "cell_type": "code",
   "execution_count": 9,
   "metadata": {},
   "outputs": [],
   "source": [
    "from sklearn.model_selection import train_test_split\n",
    "\n",
    "#Split data into training and testing (80-20 split)\n",
    "train_set, test_set = train_test_split(df, test_size = 0.2, random_state = 42)\n",
    "\n",
    "#Set labels\n",
    "train_labels = train_set[\"playlist\"] \n",
    "test_labels = test_set[\"playlist\"]\n",
    "\n",
    "#Drop target from training and testing set\n",
    "true_train_set = train_set.drop(\"playlist\", axis = 1)\n",
    "true_test_set = test_set.drop(\"playlist\", axis = 1)"
   ]
  },
  {
   "cell_type": "code",
   "execution_count": 10,
   "metadata": {},
   "outputs": [
    {
     "data": {
      "text/html": [
       "<div>\n",
       "<style scoped>\n",
       "    .dataframe tbody tr th:only-of-type {\n",
       "        vertical-align: middle;\n",
       "    }\n",
       "\n",
       "    .dataframe tbody tr th {\n",
       "        vertical-align: top;\n",
       "    }\n",
       "\n",
       "    .dataframe thead th {\n",
       "        text-align: right;\n",
       "    }\n",
       "</style>\n",
       "<table border=\"1\" class=\"dataframe\">\n",
       "  <thead>\n",
       "    <tr style=\"text-align: right;\">\n",
       "      <th></th>\n",
       "      <th>artist</th>\n",
       "      <th>album</th>\n",
       "      <th>track_name</th>\n",
       "      <th>danceability</th>\n",
       "      <th>energy</th>\n",
       "      <th>key</th>\n",
       "      <th>loudness</th>\n",
       "      <th>mode</th>\n",
       "      <th>speechiness</th>\n",
       "      <th>instrumentalness</th>\n",
       "      <th>liveness</th>\n",
       "      <th>valence</th>\n",
       "      <th>tempo</th>\n",
       "      <th>duration_ms</th>\n",
       "      <th>time_signature</th>\n",
       "      <th>popularity</th>\n",
       "    </tr>\n",
       "  </thead>\n",
       "  <tbody>\n",
       "    <tr>\n",
       "      <th>1442</th>\n",
       "      <td>MS MR</td>\n",
       "      <td>Secondhand Rapture</td>\n",
       "      <td>Hurricane</td>\n",
       "      <td>0.564</td>\n",
       "      <td>0.680</td>\n",
       "      <td>2</td>\n",
       "      <td>-6.487</td>\n",
       "      <td>1</td>\n",
       "      <td>0.0357</td>\n",
       "      <td>0.000179</td>\n",
       "      <td>0.247</td>\n",
       "      <td>0.262</td>\n",
       "      <td>89.938</td>\n",
       "      <td>226373</td>\n",
       "      <td>4</td>\n",
       "      <td>52.0</td>\n",
       "    </tr>\n",
       "    <tr>\n",
       "      <th>1740</th>\n",
       "      <td>JVKE</td>\n",
       "      <td>golden hour</td>\n",
       "      <td>golden hour</td>\n",
       "      <td>0.511</td>\n",
       "      <td>0.594</td>\n",
       "      <td>1</td>\n",
       "      <td>-4.799</td>\n",
       "      <td>0</td>\n",
       "      <td>0.0316</td>\n",
       "      <td>0.177000</td>\n",
       "      <td>0.249</td>\n",
       "      <td>0.143</td>\n",
       "      <td>94.473</td>\n",
       "      <td>209260</td>\n",
       "      <td>3</td>\n",
       "      <td>84.0</td>\n",
       "    </tr>\n",
       "    <tr>\n",
       "      <th>1873</th>\n",
       "      <td>Ty Dolla $ign</td>\n",
       "      <td>Free TC (Deluxe Edition)</td>\n",
       "      <td>Wavy (feat. Joe Moses)</td>\n",
       "      <td>0.747</td>\n",
       "      <td>0.482</td>\n",
       "      <td>11</td>\n",
       "      <td>-8.472</td>\n",
       "      <td>1</td>\n",
       "      <td>0.1310</td>\n",
       "      <td>0.000000</td>\n",
       "      <td>0.109</td>\n",
       "      <td>0.716</td>\n",
       "      <td>105.085</td>\n",
       "      <td>187671</td>\n",
       "      <td>4</td>\n",
       "      <td>62.0</td>\n",
       "    </tr>\n",
       "    <tr>\n",
       "      <th>341</th>\n",
       "      <td>Kings of Leon</td>\n",
       "      <td>Mechanical Bull (Expanded Edition)</td>\n",
       "      <td>Temple</td>\n",
       "      <td>0.475</td>\n",
       "      <td>0.644</td>\n",
       "      <td>9</td>\n",
       "      <td>-7.782</td>\n",
       "      <td>1</td>\n",
       "      <td>0.0326</td>\n",
       "      <td>0.279000</td>\n",
       "      <td>0.123</td>\n",
       "      <td>0.568</td>\n",
       "      <td>149.838</td>\n",
       "      <td>250453</td>\n",
       "      <td>4</td>\n",
       "      <td>57.0</td>\n",
       "    </tr>\n",
       "    <tr>\n",
       "      <th>1461</th>\n",
       "      <td>Red Hot Chili Peppers</td>\n",
       "      <td>Greatest Hits</td>\n",
       "      <td>Soul to Squeeze</td>\n",
       "      <td>0.663</td>\n",
       "      <td>0.546</td>\n",
       "      <td>5</td>\n",
       "      <td>-5.234</td>\n",
       "      <td>1</td>\n",
       "      <td>0.0269</td>\n",
       "      <td>0.000572</td>\n",
       "      <td>0.107</td>\n",
       "      <td>0.656</td>\n",
       "      <td>88.171</td>\n",
       "      <td>289533</td>\n",
       "      <td>4</td>\n",
       "      <td>68.0</td>\n",
       "    </tr>\n",
       "  </tbody>\n",
       "</table>\n",
       "</div>"
      ],
      "text/plain": [
       "                     artist                               album  \\\n",
       "1442                  MS MR                  Secondhand Rapture   \n",
       "1740                   JVKE                         golden hour   \n",
       "1873          Ty Dolla $ign            Free TC (Deluxe Edition)   \n",
       "341           Kings of Leon  Mechanical Bull (Expanded Edition)   \n",
       "1461  Red Hot Chili Peppers                       Greatest Hits   \n",
       "\n",
       "                  track_name  danceability  energy  key  loudness  mode  \\\n",
       "1442               Hurricane         0.564   0.680    2    -6.487     1   \n",
       "1740             golden hour         0.511   0.594    1    -4.799     0   \n",
       "1873  Wavy (feat. Joe Moses)         0.747   0.482   11    -8.472     1   \n",
       "341                   Temple         0.475   0.644    9    -7.782     1   \n",
       "1461         Soul to Squeeze         0.663   0.546    5    -5.234     1   \n",
       "\n",
       "      speechiness  instrumentalness  liveness  valence    tempo  duration_ms  \\\n",
       "1442       0.0357          0.000179     0.247    0.262   89.938       226373   \n",
       "1740       0.0316          0.177000     0.249    0.143   94.473       209260   \n",
       "1873       0.1310          0.000000     0.109    0.716  105.085       187671   \n",
       "341        0.0326          0.279000     0.123    0.568  149.838       250453   \n",
       "1461       0.0269          0.000572     0.107    0.656   88.171       289533   \n",
       "\n",
       "      time_signature  popularity  \n",
       "1442               4        52.0  \n",
       "1740               3        84.0  \n",
       "1873               4        62.0  \n",
       "341                4        57.0  \n",
       "1461               4        68.0  "
      ]
     },
     "execution_count": 10,
     "metadata": {},
     "output_type": "execute_result"
    }
   ],
   "source": [
    "#preview training data\n",
    "true_train_set.head()"
   ]
  },
  {
   "cell_type": "code",
   "execution_count": 11,
   "metadata": {},
   "outputs": [],
   "source": [
    "#Since duration, time signature, and popularity does not tell much information, they are dropped\n",
    "true_train_set = true_train_set.drop([\"duration_ms\", \"time_signature\", \"popularity\"], axis = 1)\n",
    "true_test_set = true_test_set.drop([\"duration_ms\", \"time_signature\", \"popularity\"], axis = 1)"
   ]
  },
  {
   "cell_type": "code",
   "execution_count": 12,
   "metadata": {},
   "outputs": [
    {
     "data": {
      "text/html": [
       "<div>\n",
       "<style scoped>\n",
       "    .dataframe tbody tr th:only-of-type {\n",
       "        vertical-align: middle;\n",
       "    }\n",
       "\n",
       "    .dataframe tbody tr th {\n",
       "        vertical-align: top;\n",
       "    }\n",
       "\n",
       "    .dataframe thead th {\n",
       "        text-align: right;\n",
       "    }\n",
       "</style>\n",
       "<table border=\"1\" class=\"dataframe\">\n",
       "  <thead>\n",
       "    <tr style=\"text-align: right;\">\n",
       "      <th></th>\n",
       "      <th>artist</th>\n",
       "      <th>album</th>\n",
       "      <th>track_name</th>\n",
       "      <th>danceability</th>\n",
       "      <th>energy</th>\n",
       "      <th>key</th>\n",
       "      <th>loudness</th>\n",
       "      <th>mode</th>\n",
       "      <th>speechiness</th>\n",
       "      <th>instrumentalness</th>\n",
       "      <th>liveness</th>\n",
       "      <th>valence</th>\n",
       "      <th>tempo</th>\n",
       "    </tr>\n",
       "  </thead>\n",
       "  <tbody>\n",
       "    <tr>\n",
       "      <th>1442</th>\n",
       "      <td>MS MR</td>\n",
       "      <td>Secondhand Rapture</td>\n",
       "      <td>Hurricane</td>\n",
       "      <td>0.564</td>\n",
       "      <td>0.680</td>\n",
       "      <td>2</td>\n",
       "      <td>-6.487</td>\n",
       "      <td>1</td>\n",
       "      <td>0.0357</td>\n",
       "      <td>0.000179</td>\n",
       "      <td>0.247</td>\n",
       "      <td>0.262</td>\n",
       "      <td>89.938</td>\n",
       "    </tr>\n",
       "    <tr>\n",
       "      <th>1740</th>\n",
       "      <td>JVKE</td>\n",
       "      <td>golden hour</td>\n",
       "      <td>golden hour</td>\n",
       "      <td>0.511</td>\n",
       "      <td>0.594</td>\n",
       "      <td>1</td>\n",
       "      <td>-4.799</td>\n",
       "      <td>0</td>\n",
       "      <td>0.0316</td>\n",
       "      <td>0.177000</td>\n",
       "      <td>0.249</td>\n",
       "      <td>0.143</td>\n",
       "      <td>94.473</td>\n",
       "    </tr>\n",
       "    <tr>\n",
       "      <th>1873</th>\n",
       "      <td>Ty Dolla $ign</td>\n",
       "      <td>Free TC (Deluxe Edition)</td>\n",
       "      <td>Wavy (feat. Joe Moses)</td>\n",
       "      <td>0.747</td>\n",
       "      <td>0.482</td>\n",
       "      <td>11</td>\n",
       "      <td>-8.472</td>\n",
       "      <td>1</td>\n",
       "      <td>0.1310</td>\n",
       "      <td>0.000000</td>\n",
       "      <td>0.109</td>\n",
       "      <td>0.716</td>\n",
       "      <td>105.085</td>\n",
       "    </tr>\n",
       "    <tr>\n",
       "      <th>341</th>\n",
       "      <td>Kings of Leon</td>\n",
       "      <td>Mechanical Bull (Expanded Edition)</td>\n",
       "      <td>Temple</td>\n",
       "      <td>0.475</td>\n",
       "      <td>0.644</td>\n",
       "      <td>9</td>\n",
       "      <td>-7.782</td>\n",
       "      <td>1</td>\n",
       "      <td>0.0326</td>\n",
       "      <td>0.279000</td>\n",
       "      <td>0.123</td>\n",
       "      <td>0.568</td>\n",
       "      <td>149.838</td>\n",
       "    </tr>\n",
       "    <tr>\n",
       "      <th>1461</th>\n",
       "      <td>Red Hot Chili Peppers</td>\n",
       "      <td>Greatest Hits</td>\n",
       "      <td>Soul to Squeeze</td>\n",
       "      <td>0.663</td>\n",
       "      <td>0.546</td>\n",
       "      <td>5</td>\n",
       "      <td>-5.234</td>\n",
       "      <td>1</td>\n",
       "      <td>0.0269</td>\n",
       "      <td>0.000572</td>\n",
       "      <td>0.107</td>\n",
       "      <td>0.656</td>\n",
       "      <td>88.171</td>\n",
       "    </tr>\n",
       "  </tbody>\n",
       "</table>\n",
       "</div>"
      ],
      "text/plain": [
       "                     artist                               album  \\\n",
       "1442                  MS MR                  Secondhand Rapture   \n",
       "1740                   JVKE                         golden hour   \n",
       "1873          Ty Dolla $ign            Free TC (Deluxe Edition)   \n",
       "341           Kings of Leon  Mechanical Bull (Expanded Edition)   \n",
       "1461  Red Hot Chili Peppers                       Greatest Hits   \n",
       "\n",
       "                  track_name  danceability  energy  key  loudness  mode  \\\n",
       "1442               Hurricane         0.564   0.680    2    -6.487     1   \n",
       "1740             golden hour         0.511   0.594    1    -4.799     0   \n",
       "1873  Wavy (feat. Joe Moses)         0.747   0.482   11    -8.472     1   \n",
       "341                   Temple         0.475   0.644    9    -7.782     1   \n",
       "1461         Soul to Squeeze         0.663   0.546    5    -5.234     1   \n",
       "\n",
       "      speechiness  instrumentalness  liveness  valence    tempo  \n",
       "1442       0.0357          0.000179     0.247    0.262   89.938  \n",
       "1740       0.0316          0.177000     0.249    0.143   94.473  \n",
       "1873       0.1310          0.000000     0.109    0.716  105.085  \n",
       "341        0.0326          0.279000     0.123    0.568  149.838  \n",
       "1461       0.0269          0.000572     0.107    0.656   88.171  "
      ]
     },
     "execution_count": 12,
     "metadata": {},
     "output_type": "execute_result"
    }
   ],
   "source": [
    "#preview training set again after dropped columns of duration, time signature, and popularity\n",
    "true_train_set.head()"
   ]
  },
  {
   "cell_type": "code",
   "execution_count": 13,
   "metadata": {},
   "outputs": [],
   "source": [
    "#Separate categorical and numerical variables for pipeline\n",
    "cat_attr = [\"artist\", \"album\", \"artist\"]\n",
    "num_attr = [\"danceability\", \"energy\", \"key\", \"loudness\", \"mode\", \"speechiness\", \"instrumentalness\", \"liveness\", \"valence\", \"tempo\"]"
   ]
  },
  {
   "cell_type": "code",
   "execution_count": 14,
   "metadata": {},
   "outputs": [],
   "source": [
    "#Combining and fitting the categorical and numerical data into a data pipeline in preparation for transformation\n",
    "from sklearn.compose import ColumnTransformer\n",
    "from sklearn.preprocessing import StandardScaler\n",
    "from sklearn.preprocessing import OneHotEncoder\n",
    "\n",
    "combine_pipeline = ColumnTransformer([\n",
    "    (\"num\", StandardScaler(), num_attr),\n",
    "    (\"cat\", OneHotEncoder(handle_unknown = \"ignore\"), cat_attr),\n",
    "    ])"
   ]
  },
  {
   "cell_type": "code",
   "execution_count": 15,
   "metadata": {},
   "outputs": [],
   "source": [
    "#Fit and Transform Train\n",
    "trans_train = combine_pipeline.fit_transform(true_train_set)\n",
    "\n",
    "\n",
    "#Transform Test\n",
    "trans_test = combine_pipeline.transform(true_test_set)"
   ]
  },
  {
   "cell_type": "markdown",
   "metadata": {},
   "source": [
    "## Applying Machine Learning Algorithms"
   ]
  },
  {
   "cell_type": "markdown",
   "metadata": {},
   "source": [
    "### Logistic Regression"
   ]
  },
  {
   "cell_type": "code",
   "execution_count": 16,
   "metadata": {},
   "outputs": [],
   "source": [
    "from sklearn.linear_model import LogisticRegression\n",
    "\n",
    "#Logistic Regression algorithm\n",
    "log_reg = LogisticRegression(random_state = 42, solver='lbfgs', max_iter = 400)"
   ]
  },
  {
   "cell_type": "code",
   "execution_count": 17,
   "metadata": {},
   "outputs": [
    {
     "data": {
      "text/plain": [
       "LogisticRegression(max_iter=400, random_state=42)"
      ]
     },
     "execution_count": 17,
     "metadata": {},
     "output_type": "execute_result"
    }
   ],
   "source": [
    "log_reg.fit(trans_train, train_labels)"
   ]
  },
  {
   "cell_type": "code",
   "execution_count": 18,
   "metadata": {},
   "outputs": [
    {
     "name": "stdout",
     "output_type": "stream",
     "text": [
      "0.5430809399477807 0.5430809399477807 0.5430809399477807\n",
      "                                             precision    recall  f1-score   support\n",
      "\n",
      "      104.5 Philadelphia's Alternative Rock       0.55      0.78      0.64        23\n",
      "                                90s Country       0.59      0.77      0.67        13\n",
      "Alt Country, Whiskey Rock-n-Roll, Americana       0.67      0.60      0.63        20\n",
      "                         Best of Indie 2012       0.85      0.65      0.73        17\n",
      "                 Classic Rock Greatest Hits       0.62      0.50      0.56        20\n",
      "                            Deep House 2002       0.52      0.57      0.55        21\n",
      "                              English Songs       0.65      0.71      0.68        21\n",
      "                      Erica's Epic Roadtrip       0.30      0.14      0.19        21\n",
      "                         Famous Piano Songs       0.67      1.00      0.80         2\n",
      "                  Friday Afternoon Playlist       0.17      0.12      0.14        16\n",
      "              Gay Pride Party Playlist 2022       0.45      0.62      0.53        16\n",
      "                               Lofi Hip-Hop       0.68      0.54      0.60        24\n",
      "                        Nip Tuck Soundtrack       0.39      0.30      0.34        23\n",
      "                         Old School Hip Hop       0.59      0.84      0.70        19\n",
      "                            One-Hit Wonders       0.00      0.00      0.00         6\n",
      "                               Pepper Radio       0.83      0.56      0.67         9\n",
      "                                  R&B Party       0.47      0.53      0.50        15\n",
      "             Taylor Swift: Best of the Best       0.92      1.00      0.96        12\n",
      "                    The Aaron Oh Experience       0.62      0.56      0.59        18\n",
      "                         Tik Tok Songs 2022       0.15      0.12      0.14        16\n",
      "                             Top 5000 Songs       0.59      0.53      0.56        19\n",
      "                              fall playlist       0.48      0.75      0.59        16\n",
      "              legs are shaking 🍑 is quaking       0.44      0.50      0.47        16\n",
      "\n",
      "                                   accuracy                           0.54       383\n",
      "                                  macro avg       0.53      0.55      0.53       383\n",
      "                               weighted avg       0.53      0.54      0.53       383\n",
      "\n"
     ]
    }
   ],
   "source": [
    "from sklearn.metrics import accuracy_score, precision_score, recall_score, confusion_matrix, classification_report\n",
    "\n",
    "#Predict labels\n",
    "pred_log_reg = log_reg.predict(trans_test)\n",
    "\n",
    "#accuracy score\n",
    "log_acc = accuracy_score(pred_log_reg, test_labels)\n",
    "#precision score\n",
    "log_prec = precision_score(pred_log_reg, test_labels, average = 'micro')\n",
    "#recall_score\n",
    "log_recall = recall_score(pred_log_reg, test_labels, average = 'micro')\n",
    "\n",
    "print(log_acc, log_prec, log_recall)\n",
    "print(classification_report(test_labels, pred_log_reg))\n"
   ]
  },
  {
   "cell_type": "markdown",
   "metadata": {},
   "source": [
    "#### Automatic Hyperparameter Search"
   ]
  },
  {
   "cell_type": "code",
   "execution_count": 19,
   "metadata": {},
   "outputs": [],
   "source": [
    "log_reg = LogisticRegression(random_state = 42)\n",
    "\n",
    "#Hyperparameter choices\n",
    "param_grid = [\n",
    "    {\"penalty\" : [\"l1\", \"l2\", \"elasticnet\", \"none\"],\n",
    "    \"solver\" : [\"newton-cg\", \"lbfgs\", \"liblinear\", \"sag\", \"saga\"],\n",
    "     \"max_iter\" : [300, 400, 500, 1000]\n",
    "    }\n",
    "]"
   ]
  },
  {
   "cell_type": "code",
   "execution_count": 20,
   "metadata": {},
   "outputs": [],
   "source": [
    "#Use of GridSearchCV\n",
    "from sklearn.model_selection import GridSearchCV\n",
    "\n",
    "hyper_log = GridSearchCV(log_reg, param_grid = param_grid, cv = 3, n_jobs = -1)"
   ]
  },
  {
   "cell_type": "code",
   "execution_count": 21,
   "metadata": {},
   "outputs": [
    {
     "name": "stderr",
     "output_type": "stream",
     "text": [
      "/opt/anaconda3/lib/python3.8/site-packages/sklearn/model_selection/_search.py:918: UserWarning: One or more of the test scores are non-finite: [       nan        nan 0.39829475        nan 0.40550098 0.47221644\n",
      " 0.47221644 0.47809366 0.47417594 0.471559          nan        nan\n",
      "        nan        nan        nan 0.4807196  0.45128857        nan\n",
      " 0.49051967 0.48659553        nan        nan 0.39829475        nan\n",
      " 0.40419122 0.47221644 0.47221644 0.47809366 0.47287004 0.47352107\n",
      "        nan        nan        nan        nan        nan 0.4807196\n",
      " 0.45128857        nan 0.48986607 0.48725169        nan        nan\n",
      " 0.39829475        nan 0.40288275 0.47221644 0.47221644 0.47809366\n",
      " 0.47221773 0.47221259        nan        nan        nan        nan\n",
      "        nan 0.4807196  0.45128857        nan 0.49052095 0.48855888\n",
      "        nan        nan 0.39829475        nan 0.39895861 0.47221644\n",
      " 0.47221644 0.47809366 0.47221516 0.47352492        nan        nan\n",
      "        nan        nan        nan 0.4807196  0.45128857        nan\n",
      " 0.48987121 0.49182814]\n",
      "  warnings.warn(\n",
      "/opt/anaconda3/lib/python3.8/site-packages/sklearn/linear_model/_sag.py:328: ConvergenceWarning: The max_iter was reached which means the coef_ did not converge\n",
      "  warnings.warn(\"The max_iter was reached which means \"\n"
     ]
    }
   ],
   "source": [
    "find_log = hyper_log.fit(trans_train, train_labels)"
   ]
  },
  {
   "cell_type": "code",
   "execution_count": 22,
   "metadata": {},
   "outputs": [
    {
     "data": {
      "text/plain": [
       "LogisticRegression(max_iter=1000, penalty='none', random_state=42,\n",
       "                   solver='saga')"
      ]
     },
     "execution_count": 22,
     "metadata": {},
     "output_type": "execute_result"
    }
   ],
   "source": [
    "#Find best hyperparameters to use with log regression\n",
    "\n",
    "find_log.best_estimator_"
   ]
  },
  {
   "cell_type": "code",
   "execution_count": 23,
   "metadata": {},
   "outputs": [
    {
     "data": {
      "text/plain": [
       "1.0"
      ]
     },
     "execution_count": 23,
     "metadata": {},
     "output_type": "execute_result"
    }
   ],
   "source": [
    "#Examine accuracy for training set and training labels\n",
    "find_log.score(trans_train, train_labels)"
   ]
  },
  {
   "cell_type": "code",
   "execution_count": 24,
   "metadata": {},
   "outputs": [
    {
     "name": "stdout",
     "output_type": "stream",
     "text": [
      "0.5587467362924282 0.5587467362924282 0.5587467362924282\n",
      "                                             precision    recall  f1-score   support\n",
      "\n",
      "      104.5 Philadelphia's Alternative Rock       0.67      0.70      0.68        23\n",
      "                                90s Country       0.69      0.85      0.76        13\n",
      "Alt Country, Whiskey Rock-n-Roll, Americana       0.67      0.60      0.63        20\n",
      "                         Best of Indie 2012       0.79      0.65      0.71        17\n",
      "                 Classic Rock Greatest Hits       0.50      0.50      0.50        20\n",
      "                            Deep House 2002       0.58      0.67      0.62        21\n",
      "                              English Songs       0.62      0.62      0.62        21\n",
      "                      Erica's Epic Roadtrip       0.45      0.24      0.31        21\n",
      "                         Famous Piano Songs       0.67      1.00      0.80         2\n",
      "                  Friday Afternoon Playlist       0.17      0.12      0.14        16\n",
      "              Gay Pride Party Playlist 2022       0.45      0.56      0.50        16\n",
      "                               Lofi Hip-Hop       0.65      0.62      0.64        24\n",
      "                        Nip Tuck Soundtrack       0.62      0.35      0.44        23\n",
      "                         Old School Hip Hop       0.60      0.95      0.73        19\n",
      "                            One-Hit Wonders       0.00      0.00      0.00         6\n",
      "                               Pepper Radio       1.00      0.67      0.80         9\n",
      "                                  R&B Party       0.41      0.60      0.49        15\n",
      "             Taylor Swift: Best of the Best       0.92      1.00      0.96        12\n",
      "                    The Aaron Oh Experience       0.82      0.50      0.62        18\n",
      "                         Tik Tok Songs 2022       0.22      0.12      0.16        16\n",
      "                             Top 5000 Songs       0.64      0.47      0.55        19\n",
      "                              fall playlist       0.43      0.75      0.55        16\n",
      "              legs are shaking 🍑 is quaking       0.45      0.56      0.50        16\n",
      "\n",
      "                                   accuracy                           0.56       383\n",
      "                                  macro avg       0.57      0.57      0.55       383\n",
      "                               weighted avg       0.57      0.56      0.55       383\n",
      "\n"
     ]
    },
    {
     "name": "stderr",
     "output_type": "stream",
     "text": [
      "/opt/anaconda3/lib/python3.8/site-packages/sklearn/linear_model/_sag.py:328: ConvergenceWarning: The max_iter was reached which means the coef_ did not converge\n",
      "  warnings.warn(\"The max_iter was reached which means \"\n"
     ]
    }
   ],
   "source": [
    "#Use on testing\n",
    "\n",
    "log_reg2 = LogisticRegression(random_state = 42, solver = \"saga\", penalty = \"none\", max_iter = 1000)\n",
    "log_reg2.fit(trans_train, train_labels)\n",
    "\n",
    "#Predict labels\n",
    "pred_log_reg = log_reg2.predict(trans_test)\n",
    "\n",
    "#accuracy score\n",
    "hyper_log_acc = accuracy_score(pred_log_reg, test_labels)\n",
    "#precision score\n",
    "hyper_log_prec = precision_score(pred_log_reg, test_labels, average = 'micro')\n",
    "#recall_score\n",
    "hyper_log_recall = recall_score(pred_log_reg, test_labels, average = 'micro')\n",
    "\n",
    "print(hyper_log_acc, hyper_log_prec, hyper_log_recall)\n",
    "print(classification_report(test_labels, pred_log_reg))"
   ]
  },
  {
   "cell_type": "markdown",
   "metadata": {},
   "source": [
    "### Support Vector Machine Model"
   ]
  },
  {
   "cell_type": "code",
   "execution_count": 25,
   "metadata": {},
   "outputs": [
    {
     "name": "stderr",
     "output_type": "stream",
     "text": [
      "/opt/anaconda3/lib/python3.8/site-packages/sklearn/svm/_base.py:985: ConvergenceWarning: Liblinear failed to converge, increase the number of iterations.\n",
      "  warnings.warn(\"Liblinear failed to converge, increase \"\n"
     ]
    },
    {
     "data": {
      "text/plain": [
       "LinearSVC(C=1, loss='hinge')"
      ]
     },
     "execution_count": 25,
     "metadata": {},
     "output_type": "execute_result"
    }
   ],
   "source": [
    "from sklearn.svm import LinearSVC\n",
    "from sklearn.svm import SVC\n",
    "\n",
    "#SVM Linear Algorithm\n",
    "svm = LinearSVC(C = 1, loss = \"hinge\")\n",
    "svm.fit(trans_train, train_labels)"
   ]
  },
  {
   "cell_type": "code",
   "execution_count": 26,
   "metadata": {},
   "outputs": [
    {
     "name": "stdout",
     "output_type": "stream",
     "text": [
      "0.577023498694517 0.577023498694517 0.577023498694517\n"
     ]
    }
   ],
   "source": [
    "pred_svm = svm.predict(trans_test)\n",
    "\n",
    "#accuracy score\n",
    "svm_acc = accuracy_score(pred_svm, test_labels)\n",
    "#precision score\n",
    "svm_prec = precision_score(pred_svm, test_labels, average = 'micro')\n",
    "#recall_score\n",
    "svm_recall = recall_score(pred_svm, test_labels, average = 'micro')\n",
    "\n",
    "print(svm_acc, svm_prec, svm_recall)"
   ]
  },
  {
   "cell_type": "code",
   "execution_count": 27,
   "metadata": {},
   "outputs": [],
   "source": [
    "svm = LinearSVC()\n",
    "\n",
    "#Hyperparameter choices\n",
    "param_grid = [\n",
    "    {\"penalty\" : [\"l1\", \"l2\"],\n",
    "    \"loss\" : [\"hinge\", \"squared_hinge\"],\n",
    "     \"C\" : [1.0, 2.0, 3.0, 0.5]\n",
    "    }\n",
    "]"
   ]
  },
  {
   "cell_type": "code",
   "execution_count": 28,
   "metadata": {},
   "outputs": [],
   "source": [
    "#Create GridSearch for SVM\n",
    "hyper_lsvm = GridSearchCV(svm, param_grid = param_grid, cv = 3, n_jobs = -1) "
   ]
  },
  {
   "cell_type": "code",
   "execution_count": 29,
   "metadata": {},
   "outputs": [
    {
     "name": "stderr",
     "output_type": "stream",
     "text": [
      "/opt/anaconda3/lib/python3.8/site-packages/sklearn/model_selection/_search.py:918: UserWarning: One or more of the test scores are non-finite: [       nan 0.50164362        nan 0.49902667        nan 0.50295338\n",
      "        nan 0.50033514        nan 0.49772076        nan 0.49380176\n",
      "        nan 0.50622135        nan 0.49837436]\n",
      "  warnings.warn(\n",
      "/opt/anaconda3/lib/python3.8/site-packages/sklearn/svm/_base.py:985: ConvergenceWarning: Liblinear failed to converge, increase the number of iterations.\n",
      "  warnings.warn(\"Liblinear failed to converge, increase \"\n"
     ]
    }
   ],
   "source": [
    "find_l_svm = hyper_lsvm.fit(trans_train, train_labels)"
   ]
  },
  {
   "cell_type": "code",
   "execution_count": 30,
   "metadata": {},
   "outputs": [
    {
     "data": {
      "text/plain": [
       "LinearSVC(C=0.5, loss='hinge')"
      ]
     },
     "execution_count": 30,
     "metadata": {},
     "output_type": "execute_result"
    }
   ],
   "source": [
    "find_l_svm.best_estimator_"
   ]
  },
  {
   "cell_type": "code",
   "execution_count": 31,
   "metadata": {},
   "outputs": [
    {
     "data": {
      "text/plain": [
       "0.9816873773708306"
      ]
     },
     "execution_count": 31,
     "metadata": {},
     "output_type": "execute_result"
    }
   ],
   "source": [
    "#Training score\n",
    "find_l_svm.score(trans_train, train_labels)"
   ]
  },
  {
   "cell_type": "code",
   "execution_count": 32,
   "metadata": {},
   "outputs": [
    {
     "name": "stdout",
     "output_type": "stream",
     "text": [
      "0.5744125326370757 0.5744125326370757 0.5744125326370757\n",
      "                                             precision    recall  f1-score   support\n",
      "\n",
      "      104.5 Philadelphia's Alternative Rock       0.61      0.74      0.67        23\n",
      "                                90s Country       0.56      0.77      0.65        13\n",
      "Alt Country, Whiskey Rock-n-Roll, Americana       0.63      0.60      0.62        20\n",
      "                         Best of Indie 2012       0.85      0.65      0.73        17\n",
      "                 Classic Rock Greatest Hits       0.58      0.55      0.56        20\n",
      "                            Deep House 2002       0.56      0.67      0.61        21\n",
      "                              English Songs       0.78      0.67      0.72        21\n",
      "                      Erica's Epic Roadtrip       0.33      0.14      0.20        21\n",
      "                         Famous Piano Songs       0.67      1.00      0.80         2\n",
      "                  Friday Afternoon Playlist       0.20      0.12      0.15        16\n",
      "              Gay Pride Party Playlist 2022       0.56      0.56      0.56        16\n",
      "                               Lofi Hip-Hop       0.68      0.62      0.65        24\n",
      "                        Nip Tuck Soundtrack       0.50      0.30      0.38        23\n",
      "                         Old School Hip Hop       0.56      1.00      0.72        19\n",
      "                            One-Hit Wonders       0.00      0.00      0.00         6\n",
      "                               Pepper Radio       1.00      0.67      0.80         9\n",
      "                                  R&B Party       0.56      0.67      0.61        15\n",
      "             Taylor Swift: Best of the Best       0.92      1.00      0.96        12\n",
      "                    The Aaron Oh Experience       0.90      0.50      0.64        18\n",
      "                         Tik Tok Songs 2022       0.25      0.12      0.17        16\n",
      "                             Top 5000 Songs       0.50      0.63      0.56        19\n",
      "                              fall playlist       0.45      0.94      0.61        16\n",
      "              legs are shaking 🍑 is quaking       0.36      0.50      0.42        16\n",
      "\n",
      "                                   accuracy                           0.57       383\n",
      "                                  macro avg       0.57      0.58      0.56       383\n",
      "                               weighted avg       0.57      0.57      0.55       383\n",
      "\n"
     ]
    }
   ],
   "source": [
    "#Use on testing\n",
    "\n",
    "svm_2 = LinearSVC(C = 0.5)\n",
    "svm_2.fit(trans_train, train_labels)\n",
    "\n",
    "#Predict labels\n",
    "pred_svm = svm_2.predict(trans_test)\n",
    "\n",
    "#accuracy score\n",
    "hyper_svm_acc = accuracy_score(pred_svm, test_labels)\n",
    "#precision score\n",
    "hyper_svm_prec = precision_score(pred_svm, test_labels, average = 'micro')\n",
    "#recall_score\n",
    "hyper_svm_recall = recall_score(pred_svm, test_labels, average = 'micro')\n",
    "\n",
    "print(hyper_svm_acc, hyper_svm_prec, hyper_svm_recall)\n",
    "print(classification_report(test_labels, pred_svm))"
   ]
  },
  {
   "cell_type": "markdown",
   "metadata": {},
   "source": [
    "### Poly Support Vector Machine Model"
   ]
  },
  {
   "cell_type": "code",
   "execution_count": 33,
   "metadata": {},
   "outputs": [
    {
     "data": {
      "text/plain": [
       "SVC(C=5, coef0=1, degree=2, kernel='poly')"
      ]
     },
     "execution_count": 33,
     "metadata": {},
     "output_type": "execute_result"
    }
   ],
   "source": [
    "#Poly SVM\n",
    "p_svm = SVC(kernel = \"poly\", degree = 2, coef0 = 1, C = 5)\n",
    "p_svm.fit(trans_train, train_labels)"
   ]
  },
  {
   "cell_type": "code",
   "execution_count": 34,
   "metadata": {},
   "outputs": [
    {
     "name": "stdout",
     "output_type": "stream",
     "text": [
      "0.4908616187989556 0.4908616187989556 0.4908616187989556\n"
     ]
    }
   ],
   "source": [
    "pred_p_svm = p_svm.predict(trans_test)\n",
    "\n",
    "#accuracy score\n",
    "p_svm_acc = accuracy_score(pred_p_svm, test_labels)\n",
    "#precision score\n",
    "p_svm_prec = precision_score(pred_p_svm, test_labels, average = 'micro')\n",
    "#recall_score\n",
    "p_svm_recall = recall_score(pred_p_svm, test_labels, average = 'micro')\n",
    "\n",
    "print(p_svm_acc, p_svm_prec, p_svm_recall)"
   ]
  },
  {
   "cell_type": "code",
   "execution_count": 35,
   "metadata": {},
   "outputs": [
    {
     "data": {
      "text/plain": [
       "SVC(C=5, coef0=2, kernel='poly')"
      ]
     },
     "execution_count": 35,
     "metadata": {},
     "output_type": "execute_result"
    }
   ],
   "source": [
    "#Poly SVM\n",
    "p_svm = SVC(kernel = \"poly\", degree = 3, coef0 = 2, C = 5)\n",
    "p_svm.fit(trans_train, train_labels)"
   ]
  },
  {
   "cell_type": "code",
   "execution_count": 36,
   "metadata": {},
   "outputs": [
    {
     "name": "stdout",
     "output_type": "stream",
     "text": [
      "0.47780678851174935 0.47780678851174935 0.47780678851174935\n"
     ]
    }
   ],
   "source": [
    "pred_p_svm = p_svm.predict(trans_test)\n",
    "\n",
    "#accuracy score\n",
    "p_svm_acc2 = accuracy_score(pred_p_svm, test_labels)\n",
    "#precision score\n",
    "p_svm_prec2 = precision_score(pred_p_svm, test_labels, average = 'micro')\n",
    "#recall_score\n",
    "p_svm_recall2 = recall_score(pred_p_svm, test_labels, average = 'micro')\n",
    "\n",
    "print(p_svm_acc2, p_svm_prec2, p_svm_recall2)"
   ]
  },
  {
   "cell_type": "markdown",
   "metadata": {},
   "source": [
    "#### Gaussian RBF Kernel"
   ]
  },
  {
   "cell_type": "code",
   "execution_count": 37,
   "metadata": {},
   "outputs": [
    {
     "data": {
      "text/plain": [
       "SVC(C=0.001, gamma=5)"
      ]
     },
     "execution_count": 37,
     "metadata": {},
     "output_type": "execute_result"
    }
   ],
   "source": [
    "#Gaussian RBF Kernel\n",
    "g_svm = SVC(kernel = \"rbf\", gamma = 5, C = 0.001)\n",
    "g_svm.fit(trans_train, train_labels)"
   ]
  },
  {
   "cell_type": "code",
   "execution_count": 38,
   "metadata": {},
   "outputs": [
    {
     "name": "stdout",
     "output_type": "stream",
     "text": [
      "0.033942558746736295 0.033942558746736295 0.033942558746736295\n"
     ]
    }
   ],
   "source": [
    "g_pred_svm = g_svm.predict(trans_test)\n",
    "\n",
    "#accuracy score\n",
    "g_svm_acc = accuracy_score(g_pred_svm, test_labels)\n",
    "#precision score\n",
    "g_svm_prec = precision_score(g_pred_svm, test_labels, average = 'micro')\n",
    "#recall_score\n",
    "g_svm_recall = recall_score(g_pred_svm, test_labels, average = 'micro')\n",
    "\n",
    "print(g_svm_acc, g_svm_prec, g_svm_recall)"
   ]
  },
  {
   "cell_type": "markdown",
   "metadata": {},
   "source": [
    "## Overall Metrics"
   ]
  },
  {
   "cell_type": "code",
   "execution_count": 42,
   "metadata": {},
   "outputs": [
    {
     "data": {
      "text/html": [
       "<div>\n",
       "<style scoped>\n",
       "    .dataframe tbody tr th:only-of-type {\n",
       "        vertical-align: middle;\n",
       "    }\n",
       "\n",
       "    .dataframe tbody tr th {\n",
       "        vertical-align: top;\n",
       "    }\n",
       "\n",
       "    .dataframe thead th {\n",
       "        text-align: right;\n",
       "    }\n",
       "</style>\n",
       "<table border=\"1\" class=\"dataframe\">\n",
       "  <thead>\n",
       "    <tr style=\"text-align: right;\">\n",
       "      <th></th>\n",
       "      <th>Model</th>\n",
       "      <th>Accuracy</th>\n",
       "      <th>Precision</th>\n",
       "      <th>Recall</th>\n",
       "    </tr>\n",
       "  </thead>\n",
       "  <tbody>\n",
       "    <tr>\n",
       "      <th>0</th>\n",
       "      <td>Logistic Regression</td>\n",
       "      <td>0.543081</td>\n",
       "      <td>0.543081</td>\n",
       "      <td>0.543081</td>\n",
       "    </tr>\n",
       "    <tr>\n",
       "      <th>1</th>\n",
       "      <td>SVM</td>\n",
       "      <td>0.574413</td>\n",
       "      <td>0.574413</td>\n",
       "      <td>0.574413</td>\n",
       "    </tr>\n",
       "    <tr>\n",
       "      <th>2</th>\n",
       "      <td>SVM Poly</td>\n",
       "      <td>0.477807</td>\n",
       "      <td>0.477807</td>\n",
       "      <td>0.477807</td>\n",
       "    </tr>\n",
       "    <tr>\n",
       "      <th>3</th>\n",
       "      <td>SVM Gaussian</td>\n",
       "      <td>0.033943</td>\n",
       "      <td>0.033943</td>\n",
       "      <td>0.033943</td>\n",
       "    </tr>\n",
       "  </tbody>\n",
       "</table>\n",
       "</div>"
      ],
      "text/plain": [
       "                 Model  Accuracy  Precision    Recall\n",
       "0  Logistic Regression  0.543081   0.543081  0.543081\n",
       "1                  SVM  0.574413   0.574413  0.574413\n",
       "2             SVM Poly  0.477807   0.477807  0.477807\n",
       "3         SVM Gaussian  0.033943   0.033943  0.033943"
      ]
     },
     "execution_count": 42,
     "metadata": {},
     "output_type": "execute_result"
    }
   ],
   "source": [
    "#Creation of metrics dataframe\n",
    "\n",
    "model_metrics = pd.DataFrame([[\"Logistic Regression\", log_acc, log_prec, log_recall], \n",
    "                              [\"SVM\", hyper_svm_acc, hyper_svm_prec, hyper_svm_recall],\n",
    "                              [\"SVM Poly\", p_svm_acc2, p_svm_prec2, p_svm_recall2],\n",
    "                              [\"SVM Gaussian\", g_svm_acc, g_svm_prec, g_svm_recall]],\n",
    "                              columns = [\"Model\", \"Accuracy\", \"Precision\", \"Recall\"])\n",
    "model_metrics"
   ]
  },
  {
   "cell_type": "markdown",
   "metadata": {},
   "source": [
    "## Summary of results "
   ]
  },
  {
   "cell_type": "markdown",
   "metadata": {},
   "source": [
    "In reviewing the performance of different classification algorithms, support vector machine (SVM) appears to perform the best in comparison to logistic regression, SVM Poly, & SVM Gaussian techniques. The next step of this project is to use a TensorFlow model to test its classification ability and compare that model to the models performed using scikit-learn. This would allow me to see whether TensorFlow or scikit-learn is best to be used in the classification of songs into different playlists. \n",
    "\n",
    "TensorFlow model inspiration: https://towardsdatascience.com/music-genre-classification-with-tensorflow-3de38f0d4dbb"
   ]
  }
 ],
 "metadata": {
  "kernelspec": {
   "display_name": "Python 3",
   "language": "python",
   "name": "python3"
  },
  "language_info": {
   "codemirror_mode": {
    "name": "ipython",
    "version": 3
   },
   "file_extension": ".py",
   "mimetype": "text/x-python",
   "name": "python",
   "nbconvert_exporter": "python",
   "pygments_lexer": "ipython3",
   "version": "3.8.5"
  }
 },
 "nbformat": 4,
 "nbformat_minor": 4
}
